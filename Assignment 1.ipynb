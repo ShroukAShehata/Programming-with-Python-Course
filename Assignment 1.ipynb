{
 "cells": [
  {
   "cell_type": "markdown",
   "id": "1b045e12",
   "metadata": {},
   "source": [
    "# Write the code that execute the following:"
   ]
  },
  {
   "cell_type": "markdown",
   "id": "bc1736d4",
   "metadata": {},
   "source": [
    "### Output:  We School"
   ]
  },
  {
   "cell_type": "code",
   "execution_count": null,
   "id": "94d0f8f1",
   "metadata": {},
   "outputs": [],
   "source": []
  },
  {
   "cell_type": "markdown",
   "id": "c87e9a48",
   "metadata": {},
   "source": [
    "### Declare variable with initial value 6 and print it"
   ]
  },
  {
   "cell_type": "code",
   "execution_count": null,
   "id": "1fa6a30e",
   "metadata": {},
   "outputs": [],
   "source": []
  },
  {
   "cell_type": "markdown",
   "id": "40ec8cb3",
   "metadata": {},
   "source": [
    "### Declare variable with initial value your name and print it"
   ]
  },
  {
   "cell_type": "code",
   "execution_count": null,
   "id": "e7eaf9c6",
   "metadata": {},
   "outputs": [],
   "source": []
  },
  {
   "cell_type": "markdown",
   "id": "b0150c5b",
   "metadata": {},
   "source": [
    "### Print the following output (WeSchool 2021) by using two variables"
   ]
  },
  {
   "cell_type": "code",
   "execution_count": null,
   "id": "be81045c",
   "metadata": {},
   "outputs": [],
   "source": []
  },
  {
   "cell_type": "markdown",
   "id": "e47192c3",
   "metadata": {},
   "source": [
    "### Declare three variables x,y & z with initial values 1,2 & 3 in one line then print them"
   ]
  },
  {
   "cell_type": "code",
   "execution_count": null,
   "id": "10abb1ca",
   "metadata": {},
   "outputs": [],
   "source": []
  },
  {
   "cell_type": "markdown",
   "id": "6bee378b",
   "metadata": {},
   "source": [
    "### Declare variable a with initial value 2.0 and get it's data type by using type function, repeat by another variables with another data types"
   ]
  },
  {
   "cell_type": "code",
   "execution_count": null,
   "id": "ba56c65a",
   "metadata": {},
   "outputs": [],
   "source": []
  },
  {
   "cell_type": "code",
   "execution_count": null,
   "id": "19acad0c",
   "metadata": {},
   "outputs": [],
   "source": []
  },
  {
   "cell_type": "code",
   "execution_count": null,
   "id": "0c57d2d4",
   "metadata": {},
   "outputs": [],
   "source": []
  },
  {
   "cell_type": "markdown",
   "id": "d593ea2d",
   "metadata": {},
   "source": [
    "### Declare string variable with value \"I am in we school, grade 1\"  ,then:"
   ]
  },
  {
   "cell_type": "code",
   "execution_count": null,
   "id": "f41f2e2e",
   "metadata": {},
   "outputs": [],
   "source": []
  },
  {
   "cell_type": "markdown",
   "id": "6274136a",
   "metadata": {},
   "source": [
    "#### 1) get length of it"
   ]
  },
  {
   "cell_type": "code",
   "execution_count": null,
   "id": "b9209f88",
   "metadata": {},
   "outputs": [],
   "source": []
  },
  {
   "cell_type": "markdown",
   "id": "ee756792",
   "metadata": {},
   "source": [
    "#### 2) check if word \"WE\" is in the string or not"
   ]
  },
  {
   "cell_type": "code",
   "execution_count": null,
   "id": "9657be84",
   "metadata": {},
   "outputs": [],
   "source": []
  },
  {
   "cell_type": "markdown",
   "id": "f3fb9d35",
   "metadata": {},
   "source": [
    "#### 3)Modify string to \"I am in we school,grade 2\" by using replace() method"
   ]
  },
  {
   "cell_type": "code",
   "execution_count": null,
   "id": "50313511",
   "metadata": {},
   "outputs": [],
   "source": []
  },
  {
   "cell_type": "markdown",
   "id": "9d7bc62f",
   "metadata": {},
   "source": [
    "#### 4)Modify string to be in uppercase (capital letters)"
   ]
  },
  {
   "cell_type": "code",
   "execution_count": null,
   "id": "e3f74169",
   "metadata": {},
   "outputs": [],
   "source": []
  },
  {
   "cell_type": "markdown",
   "id": "988f26ee",
   "metadata": {},
   "source": [
    "#### 5) Split string on every white space (  ) "
   ]
  },
  {
   "cell_type": "code",
   "execution_count": null,
   "id": "4b7f6d6a",
   "metadata": {},
   "outputs": [],
   "source": []
  },
  {
   "cell_type": "markdown",
   "id": "01a455f7",
   "metadata": {},
   "source": [
    "#### 6) Write the sring by format method with words \"I\" and \"we\" and \"school\" as variables"
   ]
  },
  {
   "cell_type": "code",
   "execution_count": null,
   "id": "a114085d",
   "metadata": {},
   "outputs": [],
   "source": []
  },
  {
   "cell_type": "markdown",
   "id": "6edc77ea",
   "metadata": {},
   "source": [
    "### Divide 11 by 2 and get result in float form"
   ]
  },
  {
   "cell_type": "code",
   "execution_count": null,
   "id": "e093e3b4",
   "metadata": {},
   "outputs": [],
   "source": []
  },
  {
   "cell_type": "markdown",
   "id": "16947999",
   "metadata": {},
   "source": [
    "### Divide 11 by 2 and get result in integer form"
   ]
  },
  {
   "cell_type": "code",
   "execution_count": null,
   "id": "ab548609",
   "metadata": {},
   "outputs": [],
   "source": []
  },
  {
   "cell_type": "markdown",
   "id": "4415ba73",
   "metadata": {},
   "source": [
    "### Divide 11 by 2 and get result in string form by using casting"
   ]
  },
  {
   "cell_type": "code",
   "execution_count": null,
   "id": "7a169b0d",
   "metadata": {},
   "outputs": [],
   "source": []
  },
  {
   "cell_type": "markdown",
   "id": "c5f9d6be",
   "metadata": {},
   "source": [
    "### Get the reminder when you divide 11 by 2"
   ]
  },
  {
   "cell_type": "code",
   "execution_count": null,
   "id": "9a4d9814",
   "metadata": {},
   "outputs": [],
   "source": []
  },
  {
   "cell_type": "markdown",
   "id": "3c91fc2b",
   "metadata": {},
   "source": [
    "### Make user enter his age as input, then add 5 to his age. (make the required to prevent error ocuured)"
   ]
  },
  {
   "cell_type": "code",
   "execution_count": null,
   "id": "24d86559",
   "metadata": {},
   "outputs": [],
   "source": []
  },
  {
   "cell_type": "markdown",
   "id": "3722bc40",
   "metadata": {},
   "source": [
    "### Declare variable with boolean value, then print it's type by using type function"
   ]
  },
  {
   "cell_type": "code",
   "execution_count": null,
   "id": "65aadf72",
   "metadata": {},
   "outputs": [],
   "source": []
  },
  {
   "cell_type": "markdown",
   "id": "6a9c3094",
   "metadata": {},
   "source": [
    "### Declare this list in variable ['tennis','swimmig','pingpong','handball','volley']"
   ]
  },
  {
   "cell_type": "code",
   "execution_count": null,
   "id": "7213bced",
   "metadata": {},
   "outputs": [],
   "source": []
  },
  {
   "cell_type": "markdown",
   "id": "48d3e1a5",
   "metadata": {},
   "source": [
    "### 1) access item \"pingpong\" from the list "
   ]
  },
  {
   "cell_type": "code",
   "execution_count": null,
   "id": "150a14fb",
   "metadata": {},
   "outputs": [],
   "source": []
  },
  {
   "cell_type": "markdown",
   "id": "91e00c08",
   "metadata": {},
   "source": [
    "### 2) access items from swimming to handball in list by using range index"
   ]
  },
  {
   "cell_type": "code",
   "execution_count": null,
   "id": "5e7df31d",
   "metadata": {},
   "outputs": [],
   "source": []
  },
  {
   "cell_type": "markdown",
   "id": "b36209c9",
   "metadata": {},
   "source": [
    "### 3) Modify list to be ['tennis','swimming','pingpong','football','volley'] without declaring new list"
   ]
  },
  {
   "cell_type": "code",
   "execution_count": null,
   "id": "5e4ad2ea",
   "metadata": {},
   "outputs": [],
   "source": []
  },
  {
   "cell_type": "markdown",
   "id": "4a3922c2",
   "metadata": {},
   "source": [
    "### 4) add item 'squash' at order number 3 in list"
   ]
  },
  {
   "cell_type": "code",
   "execution_count": null,
   "id": "1f9fefa8",
   "metadata": {},
   "outputs": [],
   "source": []
  },
  {
   "cell_type": "markdown",
   "id": "3a489ebf",
   "metadata": {},
   "source": [
    "### 5) add item 'karatee' at the end of the list"
   ]
  },
  {
   "cell_type": "code",
   "execution_count": null,
   "id": "09b7920b",
   "metadata": {},
   "outputs": [],
   "source": []
  },
  {
   "cell_type": "markdown",
   "id": "5ef8e6c3",
   "metadata": {},
   "source": [
    "### 6) remove 'tennis' from list "
   ]
  },
  {
   "cell_type": "code",
   "execution_count": null,
   "id": "8e6aaed7",
   "metadata": {},
   "outputs": [],
   "source": []
  },
  {
   "cell_type": "markdown",
   "id": "0c763653",
   "metadata": {},
   "source": [
    "### 7) Sort this list in both ascending and descending orders"
   ]
  },
  {
   "cell_type": "code",
   "execution_count": null,
   "id": "6bfdb69a",
   "metadata": {},
   "outputs": [],
   "source": []
  },
  {
   "cell_type": "markdown",
   "id": "2afce3a1",
   "metadata": {},
   "source": [
    "### 8)Declare new list ['running','walking'] then merge it with the main previous list"
   ]
  },
  {
   "cell_type": "code",
   "execution_count": null,
   "id": "05e85388",
   "metadata": {},
   "outputs": [],
   "source": []
  }
 ],
 "metadata": {
  "kernelspec": {
   "display_name": "Python 3",
   "language": "python",
   "name": "python3"
  },
  "language_info": {
   "codemirror_mode": {
    "name": "ipython",
    "version": 3
   },
   "file_extension": ".py",
   "mimetype": "text/x-python",
   "name": "python",
   "nbconvert_exporter": "python",
   "pygments_lexer": "ipython3",
   "version": "3.7.4"
  }
 },
 "nbformat": 4,
 "nbformat_minor": 5
}
