{
 "cells": [
  {
   "cell_type": "markdown",
   "id": "faee4893",
   "metadata": {},
   "source": [
    "### f) Tuples"
   ]
  },
  {
   "cell_type": "markdown",
   "id": "e6f6e697",
   "metadata": {},
   "source": [
    "### Ordered , Unchangable , Allow Duplicates"
   ]
  },
  {
   "cell_type": "code",
   "execution_count": 7,
   "id": "72ca50d9",
   "metadata": {},
   "outputs": [
    {
     "name": "stdout",
     "output_type": "stream",
     "text": [
      "('IT', 'maths', 'electricity', 'IT')\n"
     ]
    }
   ],
   "source": [
    "tuple = (\"IT\",\"maths\",\"electricity\" , \"IT\")\n",
    "print(tuple)"
   ]
  },
  {
   "cell_type": "markdown",
   "id": "d154a187",
   "metadata": {},
   "source": [
    "### g) Set"
   ]
  },
  {
   "cell_type": "markdown",
   "id": "fe21bbbe",
   "metadata": {},
   "source": [
    "### Unordered , Unchangable , Does not allow duplicates"
   ]
  },
  {
   "cell_type": "code",
   "execution_count": 13,
   "id": "e9c86b60",
   "metadata": {},
   "outputs": [
    {
     "name": "stdout",
     "output_type": "stream",
     "text": [
      "{'english', 'arabic', 'technology'}\n"
     ]
    }
   ],
   "source": [
    "set = {\"arabic\" , \"english\" , \"technology\" , \"arabic\"}\n",
    "print(set)"
   ]
  },
  {
   "cell_type": "markdown",
   "id": "deb17085",
   "metadata": {},
   "source": [
    "### h) Dictionary "
   ]
  },
  {
   "cell_type": "markdown",
   "id": "861ffe0b",
   "metadata": {},
   "source": [
    "### Ordered , Changable , Doesnot allow key duplicates"
   ]
  },
  {
   "cell_type": "code",
   "execution_count": 17,
   "id": "3c8d8105",
   "metadata": {},
   "outputs": [
    {
     "name": "stdout",
     "output_type": "stream",
     "text": [
      "{'name': 'john', 'school': 'weschool', 'grade': '2', 'specialization': 'IT'}\n"
     ]
    }
   ],
   "source": [
    "dict = { 'name':'john' , 'school':'weschool' , 'grade':'2' , 'specialization':'IT' }\n",
    "print(dict)"
   ]
  },
  {
   "cell_type": "code",
   "execution_count": 19,
   "id": "447d2664",
   "metadata": {},
   "outputs": [
    {
     "name": "stdout",
     "output_type": "stream",
     "text": [
      "dict_items([('name', 'john'), ('school', 'weschool'), ('grade', '2'), ('specialization', 'IT')])\n"
     ]
    }
   ],
   "source": [
    "print( dict.items() )"
   ]
  },
  {
   "cell_type": "code",
   "execution_count": 21,
   "id": "9dbe840e",
   "metadata": {},
   "outputs": [
    {
     "name": "stdout",
     "output_type": "stream",
     "text": [
      "dict_keys(['name', 'school', 'grade', 'specialization'])\n"
     ]
    }
   ],
   "source": [
    "print( dict.keys() )"
   ]
  },
  {
   "cell_type": "code",
   "execution_count": 23,
   "id": "9be5625e",
   "metadata": {},
   "outputs": [
    {
     "name": "stdout",
     "output_type": "stream",
     "text": [
      "dict_values(['john', 'weschool', '2', 'IT'])\n"
     ]
    }
   ],
   "source": [
    "print( dict.values() )"
   ]
  },
  {
   "cell_type": "code",
   "execution_count": 24,
   "id": "c8c5461c",
   "metadata": {},
   "outputs": [
    {
     "name": "stdout",
     "output_type": "stream",
     "text": [
      "{'name': ['john', 'mark', 'sally'], 'school': 'weschool', 'grade': '2', 'specialization': 'IT'}\n"
     ]
    }
   ],
   "source": [
    "data = dict = { 'name':['john','mark','sally'] , 'school':'weschool' , 'grade':'2' , 'specialization':'IT' }\n",
    "print(dict)"
   ]
  },
  {
   "cell_type": "code",
   "execution_count": 26,
   "id": "f4dad153",
   "metadata": {},
   "outputs": [
    {
     "name": "stdout",
     "output_type": "stream",
     "text": [
      "dict_keys(['name', 'school', 'grade', 'specialization'])\n"
     ]
    }
   ],
   "source": [
    "print( data.keys() )"
   ]
  },
  {
   "cell_type": "code",
   "execution_count": 28,
   "id": "50742864",
   "metadata": {},
   "outputs": [
    {
     "name": "stdout",
     "output_type": "stream",
     "text": [
      "dict_values([['john', 'mark', 'sally'], 'weschool', '2', 'IT'])\n"
     ]
    }
   ],
   "source": [
    "print( data.values() )"
   ]
  },
  {
   "cell_type": "code",
   "execution_count": 29,
   "id": "d5ec9310",
   "metadata": {},
   "outputs": [
    {
     "name": "stdout",
     "output_type": "stream",
     "text": [
      "{'name': 'john', 'school': 'weschool', 'grade': '2', 'specialization': 'IT'}\n"
     ]
    }
   ],
   "source": [
    "dict = { 'name':'john' , 'school':'weschool' , 'grade':'2' , 'specialization':'IT' , 'name':'john' }\n",
    "print(dict)"
   ]
  },
  {
   "cell_type": "markdown",
   "id": "b2113997",
   "metadata": {},
   "source": [
    "## 5) Conditional Statments (if , elif , else)"
   ]
  },
  {
   "cell_type": "code",
   "execution_count": 30,
   "id": "0e305165",
   "metadata": {},
   "outputs": [
    {
     "name": "stdout",
     "output_type": "stream",
     "text": [
      "y is greater than x\n"
     ]
    }
   ],
   "source": [
    "x = 10\n",
    "y = 35\n",
    "\n",
    "if (x > y):\n",
    "    print(\"x is greater than y\")\n",
    "elif (x == y):\n",
    "    print(\"x is equal to y\")\n",
    "else:\n",
    "    print(\"y is greater than x\")"
   ]
  },
  {
   "cell_type": "code",
   "execution_count": 38,
   "id": "55b91c8a",
   "metadata": {},
   "outputs": [
    {
     "name": "stdout",
     "output_type": "stream",
     "text": [
      "enter number-2\n",
      "user entered negative number\n"
     ]
    }
   ],
   "source": [
    "#User enters a number, determine is it positive or negative or zero\n",
    "a = float(input(\"enter number\"))\n",
    "\n",
    "if (a > 0):\n",
    "    print(\"user entered positive number\")\n",
    "elif (a == 0):\n",
    "    print(\"user entered zero\")\n",
    "else:\n",
    "    print(\"user entered negative number\")\n"
   ]
  },
  {
   "cell_type": "markdown",
   "id": "9526d223",
   "metadata": {},
   "source": [
    "## 6) Loops"
   ]
  },
  {
   "cell_type": "markdown",
   "id": "e5694333",
   "metadata": {},
   "source": [
    "### While Loop"
   ]
  },
  {
   "cell_type": "code",
   "execution_count": 1,
   "id": "79102f9a",
   "metadata": {},
   "outputs": [
    {
     "name": "stdout",
     "output_type": "stream",
     "text": [
      "1\n",
      "2\n",
      "3\n",
      "4\n",
      "5\n"
     ]
    }
   ],
   "source": [
    "i = 1\n",
    "\n",
    "while (i < 6):\n",
    "    print(i)\n",
    "    i= i+1"
   ]
  }
 ],
 "metadata": {
  "kernelspec": {
   "display_name": "Python 3",
   "language": "python",
   "name": "python3"
  },
  "language_info": {
   "codemirror_mode": {
    "name": "ipython",
    "version": 3
   },
   "file_extension": ".py",
   "mimetype": "text/x-python",
   "name": "python",
   "nbconvert_exporter": "python",
   "pygments_lexer": "ipython3",
   "version": "3.7.4"
  }
 },
 "nbformat": 4,
 "nbformat_minor": 5
}
