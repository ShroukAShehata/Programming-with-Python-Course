{
 "cells": [
  {
   "cell_type": "markdown",
   "id": "87f61b96",
   "metadata": {},
   "source": [
    "# Week 1 (Python Basics)"
   ]
  },
  {
   "cell_type": "markdown",
   "id": "2241c473",
   "metadata": {},
   "source": [
    "### 1) Print "
   ]
  },
  {
   "cell_type": "code",
   "execution_count": 1,
   "id": "b473d7d2",
   "metadata": {},
   "outputs": [
    {
     "name": "stdout",
     "output_type": "stream",
     "text": [
      "Hello World!\n"
     ]
    }
   ],
   "source": [
    "print(\"Hello World!\")"
   ]
  },
  {
   "cell_type": "markdown",
   "id": "b1fd6cec",
   "metadata": {},
   "source": [
    "### 2) Comments"
   ]
  },
  {
   "cell_type": "code",
   "execution_count": 2,
   "id": "78ff7d0f",
   "metadata": {},
   "outputs": [],
   "source": [
    "# print (\"hello\")"
   ]
  },
  {
   "cell_type": "code",
   "execution_count": 5,
   "id": "eb041e9c",
   "metadata": {},
   "outputs": [
    {
     "data": {
      "text/plain": [
       "'\\nprint(\"hello\")\\nprint(\"world\")\\n'"
      ]
     },
     "execution_count": 5,
     "metadata": {},
     "output_type": "execute_result"
    }
   ],
   "source": [
    "\"\"\"\n",
    "print(\"hello\")\n",
    "print(\"world\")\n",
    "\"\"\""
   ]
  },
  {
   "cell_type": "markdown",
   "id": "af9dc00c",
   "metadata": {},
   "source": [
    "### 3)Variables"
   ]
  },
  {
   "cell_type": "code",
   "execution_count": 6,
   "id": "3b2d1fc5",
   "metadata": {},
   "outputs": [
    {
     "name": "stdout",
     "output_type": "stream",
     "text": [
      "5\n",
      "john\n"
     ]
    }
   ],
   "source": [
    "x = 5\n",
    "y = \"john\"\n",
    "print(x)   #print(\"x\")\n",
    "print(y)   #print(\"y\")"
   ]
  },
  {
   "cell_type": "code",
   "execution_count": 7,
   "id": "034ac48c",
   "metadata": {},
   "outputs": [
    {
     "name": "stdout",
     "output_type": "stream",
     "text": [
      "sally\n"
     ]
    }
   ],
   "source": [
    "#Overwrite\n",
    "x = 4\n",
    "x = \"sally\"\n",
    "print(x)"
   ]
  },
  {
   "cell_type": "code",
   "execution_count": 8,
   "id": "37adbd82",
   "metadata": {},
   "outputs": [],
   "source": [
    "a = 4\n",
    "A = \"Sally\"\n"
   ]
  },
  {
   "cell_type": "code",
   "execution_count": 9,
   "id": "db062992",
   "metadata": {},
   "outputs": [
    {
     "name": "stdout",
     "output_type": "stream",
     "text": [
      "red\n",
      "blue\n",
      "green\n"
     ]
    }
   ],
   "source": [
    "#Multi calues to multi variables\n",
    "x , y , z = \"red\" , \"blue\" , \"green\"\n",
    "print(x)\n",
    "print(y)\n",
    "print(z)"
   ]
  },
  {
   "cell_type": "code",
   "execution_count": 10,
   "id": "19dce7ea",
   "metadata": {},
   "outputs": [
    {
     "name": "stdout",
     "output_type": "stream",
     "text": [
      "Orange\n",
      "Orange\n",
      "Orange\n"
     ]
    }
   ],
   "source": [
    "#One value to multi variables\n",
    "x = y = z =\"Orange\"\n",
    "print(x)\n",
    "print(y)\n",
    "print(z)"
   ]
  },
  {
   "cell_type": "code",
   "execution_count": 11,
   "id": "ff5015d7",
   "metadata": {},
   "outputs": [
    {
     "name": "stdout",
     "output_type": "stream",
     "text": [
      "Python isawesome\n"
     ]
    }
   ],
   "source": [
    "x = \"awesome\"\n",
    "print(\"Python is\" + x)"
   ]
  },
  {
   "cell_type": "code",
   "execution_count": 12,
   "id": "c7ebaef0",
   "metadata": {},
   "outputs": [],
   "source": [
    "x = \"Python is\"\n",
    "y = \"awesome\"\n",
    "z = x + y"
   ]
  },
  {
   "cell_type": "markdown",
   "id": "7678939c",
   "metadata": {},
   "source": [
    "### 3) Data Types"
   ]
  },
  {
   "cell_type": "markdown",
   "id": "c78edf61",
   "metadata": {},
   "source": [
    "### Type Function"
   ]
  },
  {
   "cell_type": "code",
   "execution_count": 30,
   "id": "6598221f",
   "metadata": {},
   "outputs": [
    {
     "name": "stdout",
     "output_type": "stream",
     "text": [
      "<class 'str'>\n",
      "<class 'int'>\n",
      "<class 'float'>\n"
     ]
    }
   ],
   "source": [
    "#Used to know type of any variable\n",
    "a = \"we school\"\n",
    "b = 5\n",
    "c = 5.1\n",
    "print( type(a) )\n",
    "print( type(b) )\n",
    "print( type(c) )"
   ]
  },
  {
   "cell_type": "markdown",
   "id": "e4c47878",
   "metadata": {},
   "source": [
    "### a) String"
   ]
  },
  {
   "cell_type": "code",
   "execution_count": 23,
   "id": "691a4396",
   "metadata": {},
   "outputs": [
    {
     "name": "stdout",
     "output_type": "stream",
     "text": [
      "57\n",
      "True\n",
      "FUTURE CAREER CAMP, PROGRAMMING WITH PYTHON, GROUP 4     \n",
      "future career camp, programming with python, group 4     \n",
      "future career camp, programming with python, group 4\n",
      "future career camp, programming with python, group 5     \n",
      "['future career camp', ' programming with python', ' group 4     ']\n"
     ]
    }
   ],
   "source": [
    "text= \"future career camp, programming with python, group 4     \"\n",
    "\n",
    "#get length of string\n",
    "print( len(text) )\n",
    "\n",
    "#check string\n",
    "print( \"camp\" in text )\n",
    "\n",
    "#modify string\n",
    "print( text.upper() )\n",
    "print( text.lower() )\n",
    "\n",
    "#remove white spaces from beginning and end\n",
    "print( text.strip() )\n",
    "\n",
    "#modify string\n",
    "print( text.replace(\"4\" , \"5\") )\n",
    "\n",
    "#split string\n",
    "print( text.split(\",\") )\n"
   ]
  },
  {
   "cell_type": "code",
   "execution_count": 24,
   "id": "8ff96f3e",
   "metadata": {},
   "outputs": [
    {
     "name": "stdout",
     "output_type": "stream",
     "text": [
      "future career camp, programming with python, group 4\n"
     ]
    }
   ],
   "source": [
    "#format string\n",
    "a = \"camp\"\n",
    "b = \"python\"\n",
    "c = \"4\"\n",
    "print( \"future career {}, programming with {}, group {}\".format(a,b,c) )"
   ]
  },
  {
   "cell_type": "markdown",
   "id": "75136e59",
   "metadata": {},
   "source": [
    "### b) Integer"
   ]
  },
  {
   "cell_type": "code",
   "execution_count": 1,
   "id": "c9f5366c",
   "metadata": {},
   "outputs": [
    {
     "name": "stdout",
     "output_type": "stream",
     "text": [
      "<class 'int'>\n",
      "<class 'int'>\n"
     ]
    }
   ],
   "source": [
    "x = 4\n",
    "y = 1500\n",
    "print(type(x))\n",
    "print(type(y))"
   ]
  },
  {
   "cell_type": "markdown",
   "id": "907bf1e4",
   "metadata": {},
   "source": [
    "### c) Float"
   ]
  },
  {
   "cell_type": "code",
   "execution_count": 2,
   "id": "4dcfec94",
   "metadata": {},
   "outputs": [
    {
     "name": "stdout",
     "output_type": "stream",
     "text": [
      "<class 'float'>\n",
      "<class 'float'>\n"
     ]
    }
   ],
   "source": [
    "x = 2.5\n",
    "y = 7.0\n",
    "print(type(x))\n",
    "print(type(y))"
   ]
  },
  {
   "cell_type": "markdown",
   "id": "6888acf2",
   "metadata": {},
   "source": [
    "### Maths"
   ]
  },
  {
   "cell_type": "code",
   "execution_count": 27,
   "id": "88724250",
   "metadata": {},
   "outputs": [
    {
     "name": "stdout",
     "output_type": "stream",
     "text": [
      "7\n",
      "3\n",
      "10\n",
      "2.5\n",
      "2\n",
      "1\n"
     ]
    }
   ],
   "source": [
    "print( 5 + 2 )\n",
    "print( 5 - 2 )\n",
    "print( 5 * 2 )\n",
    "print( 5 / 2 )  #float output\n",
    "print( 5 // 2 ) #integer output\n",
    "print( 5 % 2 )  #division reminder"
   ]
  },
  {
   "cell_type": "code",
   "execution_count": 29,
   "id": "3b553f1d",
   "metadata": {},
   "outputs": [
    {
     "name": "stdout",
     "output_type": "stream",
     "text": [
      "19.0\n"
     ]
    }
   ],
   "source": [
    "#Math operations precedence () , power , * or / , + or -\n",
    "print( 4+3/3*(5*3) )"
   ]
  },
  {
   "cell_type": "markdown",
   "id": "513677a7",
   "metadata": {},
   "source": [
    "### Casting"
   ]
  },
  {
   "cell_type": "code",
   "execution_count": 3,
   "id": "f73f9748",
   "metadata": {},
   "outputs": [
    {
     "name": "stdout",
     "output_type": "stream",
     "text": [
      "1\n",
      "<class 'int'>\n",
      "2\n",
      "<class 'int'>\n",
      "3\n",
      "<class 'int'>\n"
     ]
    }
   ],
   "source": [
    "x = int(1)\n",
    "print(x)\n",
    "print(type(x))\n",
    "\n",
    "y = int(2.8)\n",
    "print(y)\n",
    "print(type(y))\n",
    "\n",
    "z = int(\"3\")\n",
    "print(z)\n",
    "print(type(z))"
   ]
  },
  {
   "cell_type": "code",
   "execution_count": 40,
   "id": "028e3dfb",
   "metadata": {},
   "outputs": [
    {
     "name": "stdout",
     "output_type": "stream",
     "text": [
      "s1\n",
      "<class 'str'>\n",
      "2\n",
      "<class 'str'>\n",
      "3.0\n",
      "<class 'str'>\n"
     ]
    }
   ],
   "source": [
    "x = str(\"s1\")\n",
    "y = str(2)\n",
    "z = str(3.0)\n",
    "\n",
    "print(x)\n",
    "print(type(x))\n",
    "\n",
    "print(y)\n",
    "print(type(y))\n",
    "\n",
    "print(z)\n",
    "print(type(z))"
   ]
  },
  {
   "cell_type": "markdown",
   "id": "ed10d54e",
   "metadata": {},
   "source": [
    "### User Input "
   ]
  },
  {
   "cell_type": "code",
   "execution_count": 41,
   "id": "04dd6e68",
   "metadata": {},
   "outputs": [
    {
     "name": "stdout",
     "output_type": "stream",
     "text": [
      "type your namejohn\n",
      "john\n"
     ]
    }
   ],
   "source": [
    "x = input(\"type your name\")\n",
    "print(x)"
   ]
  },
  {
   "cell_type": "code",
   "execution_count": 42,
   "id": "551c8a3e",
   "metadata": {},
   "outputs": [
    {
     "name": "stdout",
     "output_type": "stream",
     "text": [
      "type a number5\n",
      "5\n",
      "<class 'str'>\n"
     ]
    }
   ],
   "source": [
    "y = input(\"type a number\")\n",
    "print(y)\n",
    "print(type(y))"
   ]
  },
  {
   "cell_type": "code",
   "execution_count": 43,
   "id": "df5fdbd1",
   "metadata": {},
   "outputs": [
    {
     "name": "stdout",
     "output_type": "stream",
     "text": [
      "5\n",
      "<class 'int'>\n",
      "8\n"
     ]
    }
   ],
   "source": [
    "z = int(y)\n",
    "print(z)\n",
    "print(type(z))\n",
    "print(z+3)"
   ]
  },
  {
   "cell_type": "markdown",
   "id": "5fc84759",
   "metadata": {},
   "source": [
    "### d)Boolean"
   ]
  },
  {
   "cell_type": "code",
   "execution_count": 5,
   "id": "7c0ad286",
   "metadata": {},
   "outputs": [
    {
     "name": "stdout",
     "output_type": "stream",
     "text": [
      "<class 'bool'>\n",
      "<class 'str'>\n"
     ]
    }
   ],
   "source": [
    "x = True\n",
    "print(type(x))\n",
    "y = \"True\"\n",
    "print(type(y))\n"
   ]
  },
  {
   "cell_type": "code",
   "execution_count": 6,
   "id": "a29da930",
   "metadata": {},
   "outputs": [
    {
     "name": "stdout",
     "output_type": "stream",
     "text": [
      "<class 'bool'>\n",
      "<class 'str'>\n"
     ]
    }
   ],
   "source": [
    "x = False\n",
    "print(type(x))\n",
    "y = \"False\"\n",
    "print(type(y))\n"
   ]
  },
  {
   "cell_type": "code",
   "execution_count": 10,
   "id": "337503be",
   "metadata": {},
   "outputs": [
    {
     "name": "stdout",
     "output_type": "stream",
     "text": [
      "True\n",
      "False\n",
      "False\n",
      "True\n"
     ]
    }
   ],
   "source": [
    "print(5 > 3)\n",
    "print(5 < 3)\n",
    "print(5 == 3)\n",
    "print(5 != 3)"
   ]
  },
  {
   "cell_type": "markdown",
   "id": "d810dfbd",
   "metadata": {},
   "source": [
    "### e) List"
   ]
  },
  {
   "cell_type": "markdown",
   "id": "a4ff4bfe",
   "metadata": {},
   "source": [
    "### Lists are: ordered , changable , allow duplicates"
   ]
  },
  {
   "cell_type": "code",
   "execution_count": 30,
   "id": "90f2cd02",
   "metadata": {},
   "outputs": [
    {
     "name": "stdout",
     "output_type": "stream",
     "text": [
      "['maths', 'IT', 'physics', 'communication', 'PE']\n"
     ]
    }
   ],
   "source": [
    "list = ['maths','IT','physics','communication','PE']\n",
    "print(list)"
   ]
  },
  {
   "cell_type": "markdown",
   "id": "a230c7df",
   "metadata": {},
   "source": [
    "#### Access List Items"
   ]
  },
  {
   "cell_type": "code",
   "execution_count": 16,
   "id": "5417a6ae",
   "metadata": {},
   "outputs": [
    {
     "name": "stdout",
     "output_type": "stream",
     "text": [
      "maths\n",
      "IT\n",
      "physics\n",
      "communication\n",
      "PE\n"
     ]
    }
   ],
   "source": [
    "#Access Items\n",
    "#Positive Index\n",
    "print(list[0])\n",
    "print(list[1])\n",
    "print(list[2])\n",
    "print(list[3])\n",
    "print(list[4])"
   ]
  },
  {
   "cell_type": "code",
   "execution_count": 14,
   "id": "4505df43",
   "metadata": {},
   "outputs": [
    {
     "name": "stdout",
     "output_type": "stream",
     "text": [
      "PE\n",
      "communication\n",
      "physics\n",
      "IT\n",
      "maths\n"
     ]
    }
   ],
   "source": [
    "#Access Items\n",
    "#Negative Index\n",
    "print(list[-1])\n",
    "print(list[-2])\n",
    "print(list[-3])\n",
    "print(list[-4])\n",
    "print(list[-5])"
   ]
  },
  {
   "cell_type": "code",
   "execution_count": 23,
   "id": "26823114",
   "metadata": {},
   "outputs": [
    {
     "name": "stdout",
     "output_type": "stream",
     "text": [
      "['IT', 'physics', 'communication']\n"
     ]
    }
   ],
   "source": [
    "#Access Items\n",
    "#Range of Indices\n",
    "print(list[1:4])"
   ]
  },
  {
   "cell_type": "markdown",
   "id": "20196da3",
   "metadata": {},
   "source": [
    "#### Modify List"
   ]
  },
  {
   "cell_type": "code",
   "execution_count": 31,
   "id": "e6f2b987",
   "metadata": {},
   "outputs": [
    {
     "name": "stdout",
     "output_type": "stream",
     "text": [
      "['maths', 'IT', 'electricity', 'communication', 'PE']\n"
     ]
    }
   ],
   "source": [
    "#Modify list\n",
    "list[2] = \"electricity\"\n",
    "print(list)"
   ]
  },
  {
   "cell_type": "markdown",
   "id": "4e09aba0",
   "metadata": {},
   "source": [
    "#### Add to the list"
   ]
  },
  {
   "cell_type": "code",
   "execution_count": 32,
   "id": "8c5b75d6",
   "metadata": {},
   "outputs": [
    {
     "name": "stdout",
     "output_type": "stream",
     "text": [
      "['maths', 'IT', 'electricity', 'communication', 'PE', 'arabic']\n"
     ]
    }
   ],
   "source": [
    "# 1) append()\n",
    "list.append(\"arabic\")\n",
    "print(list)"
   ]
  },
  {
   "cell_type": "code",
   "execution_count": 33,
   "id": "b017a8ad",
   "metadata": {},
   "outputs": [
    {
     "name": "stdout",
     "output_type": "stream",
     "text": [
      "['maths', 'IT', 'electricity', 'physics', 'communication', 'PE', 'arabic']\n"
     ]
    }
   ],
   "source": [
    "# 2) insert\n",
    "list.insert(3,\"physics\")\n",
    "print(list)"
   ]
  },
  {
   "cell_type": "markdown",
   "id": "00c137c4",
   "metadata": {},
   "source": [
    "#### Remove from the list"
   ]
  },
  {
   "cell_type": "code",
   "execution_count": 34,
   "id": "f63b025e",
   "metadata": {},
   "outputs": [
    {
     "name": "stdout",
     "output_type": "stream",
     "text": [
      "['maths', 'IT', 'electricity', 'physics', 'PE', 'arabic']\n"
     ]
    }
   ],
   "source": [
    "# 1)remove\n",
    "list.remove(\"communication\")\n",
    "print(list)"
   ]
  },
  {
   "cell_type": "code",
   "execution_count": 35,
   "id": "978dcd9b",
   "metadata": {},
   "outputs": [
    {
     "name": "stdout",
     "output_type": "stream",
     "text": [
      "['maths', 'electricity', 'physics', 'PE', 'arabic']\n"
     ]
    }
   ],
   "source": [
    "# 2) pop\n",
    "list.pop(1)\n",
    "print(list)"
   ]
  },
  {
   "cell_type": "markdown",
   "id": "3bdd7f2f",
   "metadata": {},
   "source": [
    "#### Sort List"
   ]
  },
  {
   "cell_type": "code",
   "execution_count": 36,
   "id": "6ab55803",
   "metadata": {},
   "outputs": [
    {
     "name": "stdout",
     "output_type": "stream",
     "text": [
      "[0, 1, 3, 5, 6, 10]\n"
     ]
    }
   ],
   "source": [
    "x = [ 3 ,6 ,1 ,0 ,10 ,5]\n",
    "x.sort()\n",
    "print(x)"
   ]
  },
  {
   "cell_type": "code",
   "execution_count": 37,
   "id": "f335164c",
   "metadata": {},
   "outputs": [
    {
     "name": "stdout",
     "output_type": "stream",
     "text": [
      "[10, 6, 5, 3, 1, 0]\n"
     ]
    }
   ],
   "source": [
    "x = [ 3 ,6 ,1 ,0 ,10 ,5]\n",
    "x.sort(reverse = True)\n",
    "print(x)"
   ]
  },
  {
   "cell_type": "markdown",
   "id": "2351b423",
   "metadata": {},
   "source": [
    "#### Join Lists"
   ]
  },
  {
   "cell_type": "code",
   "execution_count": 38,
   "id": "e3e6d3e9",
   "metadata": {},
   "outputs": [
    {
     "name": "stdout",
     "output_type": "stream",
     "text": [
      "['a', 'b', 'c', 'd', 'e']\n"
     ]
    }
   ],
   "source": [
    "#extend()\n",
    "list1 = [\"a\",\"b\",\"c\"]\n",
    "list2 = [\"d\",\"e\"]\n",
    "list1.extend(list2)\n",
    "print(list1)"
   ]
  },
  {
   "cell_type": "code",
   "execution_count": 39,
   "id": "8bd29056",
   "metadata": {},
   "outputs": [
    {
     "name": "stdout",
     "output_type": "stream",
     "text": [
      "['a', 'b', 'c', 'd', 'e']\n"
     ]
    }
   ],
   "source": [
    "#concatenation in new list\n",
    "list1 = [\"a\",\"b\",\"c\"]\n",
    "list2 = [\"d\",\"e\"]\n",
    "list3 = list1 + list2\n",
    "print(list3)"
   ]
  },
  {
   "cell_type": "code",
   "execution_count": null,
   "id": "145cea3e",
   "metadata": {},
   "outputs": [],
   "source": []
  }
 ],
 "metadata": {
  "kernelspec": {
   "display_name": "Python 3",
   "language": "python",
   "name": "python3"
  },
  "language_info": {
   "codemirror_mode": {
    "name": "ipython",
    "version": 3
   },
   "file_extension": ".py",
   "mimetype": "text/x-python",
   "name": "python",
   "nbconvert_exporter": "python",
   "pygments_lexer": "ipython3",
   "version": "3.7.4"
  }
 },
 "nbformat": 4,
 "nbformat_minor": 5
}
